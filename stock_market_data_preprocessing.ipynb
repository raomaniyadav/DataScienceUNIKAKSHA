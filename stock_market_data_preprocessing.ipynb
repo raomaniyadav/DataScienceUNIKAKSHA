{
 "cells": [
  {
   "cell_type": "code",
   "execution_count": 1,
   "id": "7bb37645",
   "metadata": {},
   "outputs": [],
   "source": [
    "#import librariers\n",
    "import numpy as np\n",
    "import pandas as pd\n",
    "import matplotlib as mpl\n",
    "import matplotlib.pyplot as plt\n",
    "import seaborn as sns"
   ]
  },
  {
   "cell_type": "markdown",
   "id": "a33c2d64",
   "metadata": {},
   "source": [
    "### Read the .csv file using pandas"
   ]
  },
  {
   "cell_type": "code",
   "execution_count": 2,
   "id": "61818edc",
   "metadata": {},
   "outputs": [],
   "source": [
    "aap=pd.read_csv(\"C:\\\\unikaksha\\\\datascience\\\\project_DS\\\\MiniProject1\\\\AAPL.csv\")\n",
    "amzn=pd.read_csv(\"C:\\\\unikaksha\\\\datascience\\\\project_DS\\\\MiniProject1\\\\AMZN.csv\")\n",
    "goog=pd.read_csv(\"C:\\\\unikaksha\\\\datascience\\\\project_DS\\\\MiniProject1\\\\GOOG.csv\")"
   ]
  },
  {
   "cell_type": "code",
   "execution_count": 5,
   "id": "659cd3d4",
   "metadata": {},
   "outputs": [],
   "source": [
    "data=pd.concat([aap,amzn,goog],axis=1)"
   ]
  },
  {
   "cell_type": "code",
   "execution_count": 7,
   "id": "4f93d436",
   "metadata": {},
   "outputs": [
    {
     "data": {
      "text/html": [
       "<div>\n",
       "<style scoped>\n",
       "    .dataframe tbody tr th:only-of-type {\n",
       "        vertical-align: middle;\n",
       "    }\n",
       "\n",
       "    .dataframe tbody tr th {\n",
       "        vertical-align: top;\n",
       "    }\n",
       "\n",
       "    .dataframe thead th {\n",
       "        text-align: right;\n",
       "    }\n",
       "</style>\n",
       "<table border=\"1\" class=\"dataframe\">\n",
       "  <thead>\n",
       "    <tr style=\"text-align: right;\">\n",
       "      <th></th>\n",
       "      <th>Date</th>\n",
       "      <th>Open</th>\n",
       "      <th>High</th>\n",
       "      <th>Low</th>\n",
       "      <th>Close</th>\n",
       "      <th>Adj Close</th>\n",
       "      <th>Volume</th>\n",
       "      <th>Date</th>\n",
       "      <th>Open</th>\n",
       "      <th>High</th>\n",
       "      <th>...</th>\n",
       "      <th>Close</th>\n",
       "      <th>Adj Close</th>\n",
       "      <th>Volume</th>\n",
       "      <th>Date</th>\n",
       "      <th>Open</th>\n",
       "      <th>High</th>\n",
       "      <th>Low</th>\n",
       "      <th>Close</th>\n",
       "      <th>Adj Close</th>\n",
       "      <th>Volume</th>\n",
       "    </tr>\n",
       "  </thead>\n",
       "  <tbody>\n",
       "    <tr>\n",
       "      <th>0</th>\n",
       "      <td>2000-01-03</td>\n",
       "      <td>3.745536</td>\n",
       "      <td>4.017857</td>\n",
       "      <td>3.631696</td>\n",
       "      <td>3.997768</td>\n",
       "      <td>3.596616</td>\n",
       "      <td>133949200</td>\n",
       "      <td>2000-01-03</td>\n",
       "      <td>81.500000</td>\n",
       "      <td>89.562500</td>\n",
       "      <td>...</td>\n",
       "      <td>89.375000</td>\n",
       "      <td>89.375000</td>\n",
       "      <td>16117600</td>\n",
       "      <td>2004-08-19</td>\n",
       "      <td>49.676899</td>\n",
       "      <td>51.693783</td>\n",
       "      <td>47.669952</td>\n",
       "      <td>49.845802</td>\n",
       "      <td>49.845802</td>\n",
       "      <td>44994500.0</td>\n",
       "    </tr>\n",
       "    <tr>\n",
       "      <th>1</th>\n",
       "      <td>2000-01-04</td>\n",
       "      <td>3.866071</td>\n",
       "      <td>3.950893</td>\n",
       "      <td>3.613839</td>\n",
       "      <td>3.660714</td>\n",
       "      <td>3.293384</td>\n",
       "      <td>128094400</td>\n",
       "      <td>2000-01-04</td>\n",
       "      <td>85.375000</td>\n",
       "      <td>91.500000</td>\n",
       "      <td>...</td>\n",
       "      <td>81.937500</td>\n",
       "      <td>81.937500</td>\n",
       "      <td>17487400</td>\n",
       "      <td>2004-08-20</td>\n",
       "      <td>50.178635</td>\n",
       "      <td>54.187561</td>\n",
       "      <td>49.925285</td>\n",
       "      <td>53.805050</td>\n",
       "      <td>53.805050</td>\n",
       "      <td>23005800.0</td>\n",
       "    </tr>\n",
       "    <tr>\n",
       "      <th>2</th>\n",
       "      <td>2000-01-05</td>\n",
       "      <td>3.705357</td>\n",
       "      <td>3.948661</td>\n",
       "      <td>3.678571</td>\n",
       "      <td>3.714286</td>\n",
       "      <td>3.341579</td>\n",
       "      <td>194580400</td>\n",
       "      <td>2000-01-05</td>\n",
       "      <td>70.500000</td>\n",
       "      <td>75.125000</td>\n",
       "      <td>...</td>\n",
       "      <td>69.750000</td>\n",
       "      <td>69.750000</td>\n",
       "      <td>38457400</td>\n",
       "      <td>2004-08-23</td>\n",
       "      <td>55.017166</td>\n",
       "      <td>56.373344</td>\n",
       "      <td>54.172661</td>\n",
       "      <td>54.346527</td>\n",
       "      <td>54.346527</td>\n",
       "      <td>18393200.0</td>\n",
       "    </tr>\n",
       "    <tr>\n",
       "      <th>3</th>\n",
       "      <td>2000-01-06</td>\n",
       "      <td>3.790179</td>\n",
       "      <td>3.821429</td>\n",
       "      <td>3.392857</td>\n",
       "      <td>3.392857</td>\n",
       "      <td>3.052405</td>\n",
       "      <td>191993200</td>\n",
       "      <td>2000-01-06</td>\n",
       "      <td>71.312500</td>\n",
       "      <td>72.687500</td>\n",
       "      <td>...</td>\n",
       "      <td>65.562500</td>\n",
       "      <td>65.562500</td>\n",
       "      <td>18752000</td>\n",
       "      <td>2004-08-24</td>\n",
       "      <td>55.260582</td>\n",
       "      <td>55.439419</td>\n",
       "      <td>51.450363</td>\n",
       "      <td>52.096165</td>\n",
       "      <td>52.096165</td>\n",
       "      <td>15361800.0</td>\n",
       "    </tr>\n",
       "    <tr>\n",
       "      <th>4</th>\n",
       "      <td>2000-01-07</td>\n",
       "      <td>3.446429</td>\n",
       "      <td>3.607143</td>\n",
       "      <td>3.410714</td>\n",
       "      <td>3.553571</td>\n",
       "      <td>3.196992</td>\n",
       "      <td>115183600</td>\n",
       "      <td>2000-01-07</td>\n",
       "      <td>67.000000</td>\n",
       "      <td>70.500000</td>\n",
       "      <td>...</td>\n",
       "      <td>69.562500</td>\n",
       "      <td>69.562500</td>\n",
       "      <td>10505400</td>\n",
       "      <td>2004-08-25</td>\n",
       "      <td>52.140873</td>\n",
       "      <td>53.651051</td>\n",
       "      <td>51.604362</td>\n",
       "      <td>52.657513</td>\n",
       "      <td>52.657513</td>\n",
       "      <td>9257400.0</td>\n",
       "    </tr>\n",
       "    <tr>\n",
       "      <th>...</th>\n",
       "      <td>...</td>\n",
       "      <td>...</td>\n",
       "      <td>...</td>\n",
       "      <td>...</td>\n",
       "      <td>...</td>\n",
       "      <td>...</td>\n",
       "      <td>...</td>\n",
       "      <td>...</td>\n",
       "      <td>...</td>\n",
       "      <td>...</td>\n",
       "      <td>...</td>\n",
       "      <td>...</td>\n",
       "      <td>...</td>\n",
       "      <td>...</td>\n",
       "      <td>...</td>\n",
       "      <td>...</td>\n",
       "      <td>...</td>\n",
       "      <td>...</td>\n",
       "      <td>...</td>\n",
       "      <td>...</td>\n",
       "      <td>...</td>\n",
       "    </tr>\n",
       "    <tr>\n",
       "      <th>4470</th>\n",
       "      <td>2017-10-09</td>\n",
       "      <td>155.809998</td>\n",
       "      <td>156.729996</td>\n",
       "      <td>155.490005</td>\n",
       "      <td>155.839996</td>\n",
       "      <td>155.839996</td>\n",
       "      <td>16262900</td>\n",
       "      <td>2017-10-09</td>\n",
       "      <td>993.239990</td>\n",
       "      <td>998.500000</td>\n",
       "      <td>...</td>\n",
       "      <td>990.989990</td>\n",
       "      <td>990.989990</td>\n",
       "      <td>2938600</td>\n",
       "      <td>NaN</td>\n",
       "      <td>NaN</td>\n",
       "      <td>NaN</td>\n",
       "      <td>NaN</td>\n",
       "      <td>NaN</td>\n",
       "      <td>NaN</td>\n",
       "      <td>NaN</td>\n",
       "    </tr>\n",
       "    <tr>\n",
       "      <th>4471</th>\n",
       "      <td>2017-10-10</td>\n",
       "      <td>156.059998</td>\n",
       "      <td>158.000000</td>\n",
       "      <td>155.100006</td>\n",
       "      <td>155.899994</td>\n",
       "      <td>155.899994</td>\n",
       "      <td>15617000</td>\n",
       "      <td>2017-10-10</td>\n",
       "      <td>996.669983</td>\n",
       "      <td>997.950012</td>\n",
       "      <td>...</td>\n",
       "      <td>987.200012</td>\n",
       "      <td>987.200012</td>\n",
       "      <td>3084900</td>\n",
       "      <td>NaN</td>\n",
       "      <td>NaN</td>\n",
       "      <td>NaN</td>\n",
       "      <td>NaN</td>\n",
       "      <td>NaN</td>\n",
       "      <td>NaN</td>\n",
       "      <td>NaN</td>\n",
       "    </tr>\n",
       "    <tr>\n",
       "      <th>4472</th>\n",
       "      <td>2017-10-11</td>\n",
       "      <td>155.970001</td>\n",
       "      <td>156.979996</td>\n",
       "      <td>155.750000</td>\n",
       "      <td>156.550003</td>\n",
       "      <td>156.550003</td>\n",
       "      <td>16905600</td>\n",
       "      <td>2017-10-11</td>\n",
       "      <td>991.270020</td>\n",
       "      <td>995.500000</td>\n",
       "      <td>...</td>\n",
       "      <td>995.000000</td>\n",
       "      <td>995.000000</td>\n",
       "      <td>2337100</td>\n",
       "      <td>NaN</td>\n",
       "      <td>NaN</td>\n",
       "      <td>NaN</td>\n",
       "      <td>NaN</td>\n",
       "      <td>NaN</td>\n",
       "      <td>NaN</td>\n",
       "      <td>NaN</td>\n",
       "    </tr>\n",
       "    <tr>\n",
       "      <th>4473</th>\n",
       "      <td>2017-10-12</td>\n",
       "      <td>156.350006</td>\n",
       "      <td>157.369995</td>\n",
       "      <td>155.729996</td>\n",
       "      <td>156.000000</td>\n",
       "      <td>156.000000</td>\n",
       "      <td>16125100</td>\n",
       "      <td>2017-10-12</td>\n",
       "      <td>996.809998</td>\n",
       "      <td>1008.440002</td>\n",
       "      <td>...</td>\n",
       "      <td>1000.929993</td>\n",
       "      <td>1000.929993</td>\n",
       "      <td>4067300</td>\n",
       "      <td>NaN</td>\n",
       "      <td>NaN</td>\n",
       "      <td>NaN</td>\n",
       "      <td>NaN</td>\n",
       "      <td>NaN</td>\n",
       "      <td>NaN</td>\n",
       "      <td>NaN</td>\n",
       "    </tr>\n",
       "    <tr>\n",
       "      <th>4474</th>\n",
       "      <td>2017-10-13</td>\n",
       "      <td>156.729996</td>\n",
       "      <td>157.279999</td>\n",
       "      <td>156.410004</td>\n",
       "      <td>156.990005</td>\n",
       "      <td>156.990005</td>\n",
       "      <td>16344800</td>\n",
       "      <td>2017-10-13</td>\n",
       "      <td>1007.000000</td>\n",
       "      <td>1007.770020</td>\n",
       "      <td>...</td>\n",
       "      <td>1002.940002</td>\n",
       "      <td>1002.940002</td>\n",
       "      <td>2407700</td>\n",
       "      <td>NaN</td>\n",
       "      <td>NaN</td>\n",
       "      <td>NaN</td>\n",
       "      <td>NaN</td>\n",
       "      <td>NaN</td>\n",
       "      <td>NaN</td>\n",
       "      <td>NaN</td>\n",
       "    </tr>\n",
       "  </tbody>\n",
       "</table>\n",
       "<p>4475 rows × 21 columns</p>\n",
       "</div>"
      ],
      "text/plain": [
       "            Date        Open        High         Low       Close   Adj Close  \\\n",
       "0     2000-01-03    3.745536    4.017857    3.631696    3.997768    3.596616   \n",
       "1     2000-01-04    3.866071    3.950893    3.613839    3.660714    3.293384   \n",
       "2     2000-01-05    3.705357    3.948661    3.678571    3.714286    3.341579   \n",
       "3     2000-01-06    3.790179    3.821429    3.392857    3.392857    3.052405   \n",
       "4     2000-01-07    3.446429    3.607143    3.410714    3.553571    3.196992   \n",
       "...          ...         ...         ...         ...         ...         ...   \n",
       "4470  2017-10-09  155.809998  156.729996  155.490005  155.839996  155.839996   \n",
       "4471  2017-10-10  156.059998  158.000000  155.100006  155.899994  155.899994   \n",
       "4472  2017-10-11  155.970001  156.979996  155.750000  156.550003  156.550003   \n",
       "4473  2017-10-12  156.350006  157.369995  155.729996  156.000000  156.000000   \n",
       "4474  2017-10-13  156.729996  157.279999  156.410004  156.990005  156.990005   \n",
       "\n",
       "         Volume        Date         Open         High  ...        Close  \\\n",
       "0     133949200  2000-01-03    81.500000    89.562500  ...    89.375000   \n",
       "1     128094400  2000-01-04    85.375000    91.500000  ...    81.937500   \n",
       "2     194580400  2000-01-05    70.500000    75.125000  ...    69.750000   \n",
       "3     191993200  2000-01-06    71.312500    72.687500  ...    65.562500   \n",
       "4     115183600  2000-01-07    67.000000    70.500000  ...    69.562500   \n",
       "...         ...         ...          ...          ...  ...          ...   \n",
       "4470   16262900  2017-10-09   993.239990   998.500000  ...   990.989990   \n",
       "4471   15617000  2017-10-10   996.669983   997.950012  ...   987.200012   \n",
       "4472   16905600  2017-10-11   991.270020   995.500000  ...   995.000000   \n",
       "4473   16125100  2017-10-12   996.809998  1008.440002  ...  1000.929993   \n",
       "4474   16344800  2017-10-13  1007.000000  1007.770020  ...  1002.940002   \n",
       "\n",
       "        Adj Close    Volume        Date       Open       High        Low  \\\n",
       "0       89.375000  16117600  2004-08-19  49.676899  51.693783  47.669952   \n",
       "1       81.937500  17487400  2004-08-20  50.178635  54.187561  49.925285   \n",
       "2       69.750000  38457400  2004-08-23  55.017166  56.373344  54.172661   \n",
       "3       65.562500  18752000  2004-08-24  55.260582  55.439419  51.450363   \n",
       "4       69.562500  10505400  2004-08-25  52.140873  53.651051  51.604362   \n",
       "...           ...       ...         ...        ...        ...        ...   \n",
       "4470   990.989990   2938600         NaN        NaN        NaN        NaN   \n",
       "4471   987.200012   3084900         NaN        NaN        NaN        NaN   \n",
       "4472   995.000000   2337100         NaN        NaN        NaN        NaN   \n",
       "4473  1000.929993   4067300         NaN        NaN        NaN        NaN   \n",
       "4474  1002.940002   2407700         NaN        NaN        NaN        NaN   \n",
       "\n",
       "          Close  Adj Close      Volume  \n",
       "0     49.845802  49.845802  44994500.0  \n",
       "1     53.805050  53.805050  23005800.0  \n",
       "2     54.346527  54.346527  18393200.0  \n",
       "3     52.096165  52.096165  15361800.0  \n",
       "4     52.657513  52.657513   9257400.0  \n",
       "...         ...        ...         ...  \n",
       "4470        NaN        NaN         NaN  \n",
       "4471        NaN        NaN         NaN  \n",
       "4472        NaN        NaN         NaN  \n",
       "4473        NaN        NaN         NaN  \n",
       "4474        NaN        NaN         NaN  \n",
       "\n",
       "[4475 rows x 21 columns]"
      ]
     },
     "execution_count": 7,
     "metadata": {},
     "output_type": "execute_result"
    }
   ],
   "source": [
    "data"
   ]
  },
  {
   "cell_type": "code",
   "execution_count": 5,
   "id": "ca3f15b2",
   "metadata": {},
   "outputs": [
    {
     "name": "stdout",
     "output_type": "stream",
     "text": [
      "AAPL Dataset:\n",
      "          Date      Open      High       Low     Close  Adj Close     Volume\n",
      "0  2000-01-03  3.745536  4.017857  3.631696  3.997768   3.596616  133949200\n",
      "1  2000-01-04  3.866071  3.950893  3.613839  3.660714   3.293384  128094400\n",
      "2  2000-01-05  3.705357  3.948661  3.678571  3.714286   3.341579  194580400\n",
      "3  2000-01-06  3.790179  3.821429  3.392857  3.392857   3.052405  191993200\n",
      "4  2000-01-07  3.446429  3.607143  3.410714  3.553571   3.196992  115183600\n",
      "AMAZON Dataset:\n",
      "          Date     Open     High        Low    Close  Adj Close    Volume\n",
      "0  2000-01-03  81.5000  89.5625  79.046799  89.3750    89.3750  16117600\n",
      "1  2000-01-04  85.3750  91.5000  81.750000  81.9375    81.9375  17487400\n",
      "2  2000-01-05  70.5000  75.1250  68.000000  69.7500    69.7500  38457400\n",
      "3  2000-01-06  71.3125  72.6875  64.000000  65.5625    65.5625  18752000\n",
      "4  2000-01-07  67.0000  70.5000  66.187500  69.5625    69.5625  10505400\n",
      "GOOGLE Dataset:\n",
      "          Date       Open       High        Low      Close  Adj Close    Volume\n",
      "0  2004-08-19  49.676899  51.693783  47.669952  49.845802  49.845802  44994500\n",
      "1  2004-08-20  50.178635  54.187561  49.925285  53.805050  53.805050  23005800\n",
      "2  2004-08-23  55.017166  56.373344  54.172661  54.346527  54.346527  18393200\n",
      "3  2004-08-24  55.260582  55.439419  51.450363  52.096165  52.096165  15361800\n",
      "4  2004-08-25  52.140873  53.651051  51.604362  52.657513  52.657513   9257400\n"
     ]
    }
   ],
   "source": [
    "print(\"AAPL Dataset:\\n\",aap.head())\n",
    "print(\"AMAZON Dataset:\\n\",amzn.head())\n",
    "print(\"GOOGLE Dataset:\\n\",goog.head())"
   ]
  },
  {
   "cell_type": "markdown",
   "id": "310544f6",
   "metadata": {},
   "source": [
    "### Get column adj close in each file"
   ]
  },
  {
   "cell_type": "code",
   "execution_count": 6,
   "id": "540a1684",
   "metadata": {},
   "outputs": [
    {
     "name": "stdout",
     "output_type": "stream",
     "text": [
      "Adj Close columns for dataset AAPL:\n",
      " 0         3.596616\n",
      "1         3.293384\n",
      "2         3.341579\n",
      "3         3.052405\n",
      "4         3.196992\n",
      "           ...    \n",
      "4470    155.839996\n",
      "4471    155.899994\n",
      "4472    156.550003\n",
      "4473    156.000000\n",
      "4474    156.990005\n",
      "Name: Adj Close, Length: 4475, dtype: float64\n"
     ]
    }
   ],
   "source": [
    "\n",
    "print(\"Adj Close columns for dataset AAPL:\\n\",aap[\"Adj Close\"])"
   ]
  },
  {
   "cell_type": "code",
   "execution_count": 7,
   "id": "7964c633",
   "metadata": {},
   "outputs": [
    {
     "name": "stdout",
     "output_type": "stream",
     "text": [
      "Adj Close columns for dataset Amazon:\n",
      " 0         89.375000\n",
      "1         81.937500\n",
      "2         69.750000\n",
      "3         65.562500\n",
      "4         69.562500\n",
      "           ...     \n",
      "4470     990.989990\n",
      "4471     987.200012\n",
      "4472     995.000000\n",
      "4473    1000.929993\n",
      "4474    1002.940002\n",
      "Name: Adj Close, Length: 4475, dtype: float64\n"
     ]
    }
   ],
   "source": [
    "print(\"Adj Close columns for dataset Amazon:\\n\",amzn[\"Adj Close\"])"
   ]
  },
  {
   "cell_type": "code",
   "execution_count": 8,
   "id": "7eb569c4",
   "metadata": {},
   "outputs": [
    {
     "name": "stdout",
     "output_type": "stream",
     "text": [
      "Adj Close columns for dataset Google:\n",
      " 0        49.845802\n",
      "1        53.805050\n",
      "2        54.346527\n",
      "3        52.096165\n",
      "4        52.657513\n",
      "           ...    \n",
      "3308    977.000000\n",
      "3309    972.599976\n",
      "3310    989.250000\n",
      "3311    987.830017\n",
      "3312    989.679993\n",
      "Name: Adj Close, Length: 3313, dtype: float64\n"
     ]
    }
   ],
   "source": [
    "print(\"Adj Close columns for dataset Google:\\n\",goog[\"Adj Close\"])"
   ]
  },
  {
   "cell_type": "markdown",
   "id": "0f0cba59",
   "metadata": {},
   "source": [
    "### checking null values for each data set"
   ]
  },
  {
   "cell_type": "code",
   "execution_count": 37,
   "id": "23a4f53a",
   "metadata": {},
   "outputs": [
    {
     "name": "stdout",
     "output_type": "stream",
     "text": [
      "Date         0\n",
      "Open         0\n",
      "High         0\n",
      "Low          0\n",
      "Close        0\n",
      "Adj Close    0\n",
      "Volume       0\n",
      "dtype: int64\n"
     ]
    }
   ],
   "source": [
    "print(aap.isna().sum())"
   ]
  },
  {
   "cell_type": "code",
   "execution_count": 38,
   "id": "b949a1e5",
   "metadata": {},
   "outputs": [
    {
     "name": "stdout",
     "output_type": "stream",
     "text": [
      "Date         0\n",
      "Open         0\n",
      "High         0\n",
      "Low          0\n",
      "Close        0\n",
      "Adj Close    0\n",
      "Volume       0\n",
      "dtype: int64\n"
     ]
    }
   ],
   "source": [
    "print(amzn.isnull().sum())"
   ]
  },
  {
   "cell_type": "code",
   "execution_count": 39,
   "id": "165c6174",
   "metadata": {},
   "outputs": [
    {
     "name": "stdout",
     "output_type": "stream",
     "text": [
      "Date         0\n",
      "Open         0\n",
      "High         0\n",
      "Low          0\n",
      "Close        0\n",
      "Adj Close    0\n",
      "Volume       0\n",
      "dtype: int64\n"
     ]
    }
   ],
   "source": [
    "print(goog.isnull().sum())"
   ]
  },
  {
   "cell_type": "markdown",
   "id": "43bda54d",
   "metadata": {},
   "source": [
    "### Sum the each stack company and store as 3 columns"
   ]
  },
  {
   "cell_type": "code",
   "execution_count": 36,
   "id": "52916654",
   "metadata": {},
   "outputs": [
    {
     "name": "stdout",
     "output_type": "stream",
     "text": [
      "Date         2000-01-032000-01-042000-01-052000-01-062000-0...\n",
      "Open                                              190493.17365\n",
      "High                                             192271.694416\n",
      "Low                                               188536.35669\n",
      "Close                                            190453.809854\n",
      "Adj Close                                        179313.065991\n",
      "Volume                                            561173318900\n",
      "dtype: object\n"
     ]
    }
   ],
   "source": [
    "print(aap.sum())"
   ]
  },
  {
   "cell_type": "code",
   "execution_count": 35,
   "id": "62703627",
   "metadata": {},
   "outputs": [
    {
     "name": "stdout",
     "output_type": "stream",
     "text": [
      "Date         2000-01-032000-01-042000-01-052000-01-062000-0...\n",
      "Open                                             893756.867737\n",
      "High                                             903713.730782\n",
      "Low                                              883094.625531\n",
      "Close                                            893900.690722\n",
      "Adj Close                                        893900.690722\n",
      "Volume                                             30371198400\n",
      "dtype: object\n"
     ]
    }
   ],
   "source": [
    "print(amzn.sum())"
   ]
  },
  {
   "cell_type": "code",
   "execution_count": 34,
   "id": "555e884f",
   "metadata": {},
   "outputs": [
    {
     "name": "stdout",
     "output_type": "stream",
     "text": [
      "Date         2004-08-192004-08-202004-08-232004-08-242004-0...\n",
      "Open                                            1259556.521846\n",
      "High                                            1270514.759135\n",
      "Low                                             1247408.470267\n",
      "Close                                           1259180.053546\n",
      "Adj Close                                       1259180.053546\n",
      "Volume                                             26631469500\n",
      "dtype: object\n"
     ]
    }
   ],
   "source": [
    "print(goog.sum())"
   ]
  },
  {
   "cell_type": "markdown",
   "id": "f8b54c11",
   "metadata": {},
   "source": [
    "### Find Mean, Median and std"
   ]
  },
  {
   "cell_type": "code",
   "execution_count": 22,
   "id": "592939bc",
   "metadata": {},
   "outputs": [
    {
     "name": "stdout",
     "output_type": "stream",
     "text": [
      "AAPL mean: \n",
      " Open         4.256831e+01\n",
      "High         4.296574e+01\n",
      "Low          4.213103e+01\n",
      "Close        4.255951e+01\n",
      "Adj Close    4.006996e+01\n",
      "Volume       1.254019e+08\n",
      "dtype: float64\n",
      "AAPL median: \n",
      " Open         2.257143e+01\n",
      "High         2.292714e+01\n",
      "Low          2.225000e+01\n",
      "Close        2.270714e+01\n",
      "Adj Close    2.042862e+01\n",
      "Volume       9.836960e+07\n",
      "dtype: float64\n",
      "AAPL std: \n",
      " Open         4.485702e+01\n",
      "High         4.518643e+01\n",
      "Low          4.449882e+01\n",
      "Close        4.485376e+01\n",
      "Adj Close    4.347884e+01\n",
      "Volume       9.978767e+07\n",
      "dtype: float64\n"
     ]
    },
    {
     "name": "stderr",
     "output_type": "stream",
     "text": [
      "C:\\Users\\Yadav\\AppData\\Local\\Temp\\ipykernel_1052\\3690084397.py:1: FutureWarning: The default value of numeric_only in DataFrame.mean is deprecated. In a future version, it will default to False. In addition, specifying 'numeric_only=None' is deprecated. Select only valid columns or specify the value of numeric_only to silence this warning.\n",
      "  print(\"AAPL mean: \\n\",aap.mean())\n",
      "C:\\Users\\Yadav\\AppData\\Local\\Temp\\ipykernel_1052\\3690084397.py:2: FutureWarning: The default value of numeric_only in DataFrame.median is deprecated. In a future version, it will default to False. In addition, specifying 'numeric_only=None' is deprecated. Select only valid columns or specify the value of numeric_only to silence this warning.\n",
      "  print(\"AAPL median: \\n\",aap.median())\n",
      "C:\\Users\\Yadav\\AppData\\Local\\Temp\\ipykernel_1052\\3690084397.py:3: FutureWarning: The default value of numeric_only in DataFrame.std is deprecated. In a future version, it will default to False. In addition, specifying 'numeric_only=None' is deprecated. Select only valid columns or specify the value of numeric_only to silence this warning.\n",
      "  print(\"AAPL std: \\n\",aap.std())\n"
     ]
    }
   ],
   "source": [
    "print(\"AAPL mean: \\n\",aap.mean())\n",
    "print(\"AAPL median: \\n\",aap.median())\n",
    "print(\"AAPL std: \\n\",aap.std())"
   ]
  },
  {
   "cell_type": "code",
   "execution_count": 23,
   "id": "7a8f8b1e",
   "metadata": {},
   "outputs": [
    {
     "name": "stdout",
     "output_type": "stream",
     "text": [
      "AMAZON mean: \n",
      " Open         1.997222e+02\n",
      "High         2.019472e+02\n",
      "Low          1.973396e+02\n",
      "Close        1.997543e+02\n",
      "Adj Close    1.997543e+02\n",
      "Volume       6.786860e+06\n",
      "dtype: float64\n",
      "AMAZON median: \n",
      " Open         8.040000e+01\n",
      "High         8.196000e+01\n",
      "Low          7.865000e+01\n",
      "Close        8.024000e+01\n",
      "Adj Close    8.024000e+01\n",
      "Volume       5.640500e+06\n",
      "dtype: float64\n",
      "AMAZON std: \n",
      " Open         2.428457e+02\n",
      "High         2.444493e+02\n",
      "Low          2.408053e+02\n",
      "Close        2.427287e+02\n",
      "Adj Close    2.427287e+02\n",
      "Volume       5.413778e+06\n",
      "dtype: float64\n"
     ]
    },
    {
     "name": "stderr",
     "output_type": "stream",
     "text": [
      "C:\\Users\\Yadav\\AppData\\Local\\Temp\\ipykernel_1052\\425290435.py:1: FutureWarning: The default value of numeric_only in DataFrame.mean is deprecated. In a future version, it will default to False. In addition, specifying 'numeric_only=None' is deprecated. Select only valid columns or specify the value of numeric_only to silence this warning.\n",
      "  print(\"AMAZON mean: \\n\",amzn.mean())\n",
      "C:\\Users\\Yadav\\AppData\\Local\\Temp\\ipykernel_1052\\425290435.py:2: FutureWarning: The default value of numeric_only in DataFrame.median is deprecated. In a future version, it will default to False. In addition, specifying 'numeric_only=None' is deprecated. Select only valid columns or specify the value of numeric_only to silence this warning.\n",
      "  print(\"AMAZON median: \\n\",amzn.median())\n",
      "C:\\Users\\Yadav\\AppData\\Local\\Temp\\ipykernel_1052\\425290435.py:3: FutureWarning: The default value of numeric_only in DataFrame.std is deprecated. In a future version, it will default to False. In addition, specifying 'numeric_only=None' is deprecated. Select only valid columns or specify the value of numeric_only to silence this warning.\n",
      "  print(\"AMAZON std: \\n\",amzn.std())\n"
     ]
    }
   ],
   "source": [
    "print(\"AMAZON mean: \\n\",amzn.mean())\n",
    "print(\"AMAZON median: \\n\",amzn.median())\n",
    "print(\"AMAZON std: \\n\",amzn.std())"
   ]
  },
  {
   "cell_type": "code",
   "execution_count": 24,
   "id": "618f6da4",
   "metadata": {},
   "outputs": [
    {
     "name": "stdout",
     "output_type": "stream",
     "text": [
      "Google mean: \n",
      " Open         3.801861e+02\n",
      "High         3.834937e+02\n",
      "Low          3.765193e+02\n",
      "Close        3.800725e+02\n",
      "Adj Close    3.800725e+02\n",
      "Volume       8.038476e+06\n",
      "dtype: float64\n",
      "Google median: \n",
      " Open         2.933123e+02\n",
      "High         2.954335e+02\n",
      "Low          2.899293e+02\n",
      "Close        2.930291e+02\n",
      "Adj Close    2.930291e+02\n",
      "Volume       5.281300e+06\n",
      "dtype: float64\n",
      "Google std: \n",
      " Open         2.238187e+02\n",
      "High         2.249745e+02\n",
      "Low          2.224732e+02\n",
      "Close        2.238538e+02\n",
      "Adj Close    2.238538e+02\n",
      "Volume       8.399521e+06\n",
      "dtype: float64\n"
     ]
    },
    {
     "name": "stderr",
     "output_type": "stream",
     "text": [
      "C:\\Users\\Yadav\\AppData\\Local\\Temp\\ipykernel_1052\\1309197381.py:1: FutureWarning: The default value of numeric_only in DataFrame.mean is deprecated. In a future version, it will default to False. In addition, specifying 'numeric_only=None' is deprecated. Select only valid columns or specify the value of numeric_only to silence this warning.\n",
      "  print(\"Google mean: \\n\",goog.mean())\n",
      "C:\\Users\\Yadav\\AppData\\Local\\Temp\\ipykernel_1052\\1309197381.py:2: FutureWarning: The default value of numeric_only in DataFrame.median is deprecated. In a future version, it will default to False. In addition, specifying 'numeric_only=None' is deprecated. Select only valid columns or specify the value of numeric_only to silence this warning.\n",
      "  print(\"Google median: \\n\",goog.median())\n",
      "C:\\Users\\Yadav\\AppData\\Local\\Temp\\ipykernel_1052\\1309197381.py:3: FutureWarning: The default value of numeric_only in DataFrame.std is deprecated. In a future version, it will default to False. In addition, specifying 'numeric_only=None' is deprecated. Select only valid columns or specify the value of numeric_only to silence this warning.\n",
      "  print(\"Google std: \\n\",goog.std())\n"
     ]
    }
   ],
   "source": [
    "print(\"Google mean: \\n\",goog.mean())\n",
    "print(\"Google median: \\n\",goog.median())\n",
    "print(\"Google std: \\n\",goog.std())"
   ]
  },
  {
   "cell_type": "markdown",
   "id": "f84a5555",
   "metadata": {},
   "source": [
    "### Plot the data in matplotlib"
   ]
  },
  {
   "cell_type": "code",
   "execution_count": 31,
   "id": "3bddc51f",
   "metadata": {},
   "outputs": [
    {
     "data": {
      "image/png": "[encoded data removed]",
      "text/plain": [
       "<Figure size 640x480 with 1 Axes>"
      ]
     },
     "metadata": {},
     "output_type": "display_data"
    },
    {
     "data": {
      "image/png": "[encoded data removed]",
      "text/plain": [
       "<Figure size 640x480 with 1 Axes>"
      ]
     },
     "metadata": {},
     "output_type": "display_data"
    }
   ],
   "source": [
    "plt.hist(aap[\"Adj Close\"],bins=30,edgecolor=\"r\")\n",
    "plt.show()\n",
    "plt.hist(aap[\"Volume\"],bins=30,edgecolor=\"g\")\n",
    "plt.show()"
   ]
  },
  {
   "cell_type": "code",
   "execution_count": 32,
   "id": "00ac30f9",
   "metadata": {},
   "outputs": [
    {
     "data": {
      "image/png": "[encoded data removed]",
      "text/plain": [
       "<Figure size 640x480 with 1 Axes>"
      ]
     },
     "metadata": {},
     "output_type": "display_data"
    },
    {
     "data": {
      "image/png": "[encoded data removed]",
      "text/plain": [
       "<Figure size 640x480 with 1 Axes>"
      ]
     },
     "metadata": {},
     "output_type": "display_data"
    }
   ],
   "source": [
    "plt.hist(amzn[\"Adj Close\"],bins=30,edgecolor=\"r\")\n",
    "plt.show()\n",
    "plt.hist(amzn[\"Volume\"],bins=30,edgecolor=\"g\")\n",
    "plt.show()"
   ]
  },
  {
   "cell_type": "code",
   "execution_count": 33,
   "id": "70d43ef9",
   "metadata": {},
   "outputs": [
    {
     "data": {
      "image/png": "[encoded data removed]",
      "text/plain": [
       "<Figure size 640x480 with 1 Axes>"
      ]
     },
     "metadata": {},
     "output_type": "display_data"
    },
    {
     "data": {
      "image/png": "[encoded data removed]",
      "text/plain": [
       "<Figure size 640x480 with 1 Axes>"
      ]
     },
     "metadata": {},
     "output_type": "display_data"
    }
   ],
   "source": [
    "plt.hist(goog[\"Adj Close\"],bins=30,edgecolor=\"r\")\n",
    "plt.show()\n",
    "plt.hist(goog[\"Volume\"],bins=30,edgecolor=\"g\")\n",
    "plt.show()"
   ]
  },
  {
   "cell_type": "code",
   "execution_count": null,
   "id": "009ce7ce",
   "metadata": {},
   "outputs": [],
   "source": []
  }
 ],
 "metadata": {
  "kernelspec": {
   "display_name": "Python 3 (ipykernel)",
   "language": "python",
   "name": "python3"
  },
  "language_info": {
   "codemirror_mode": {
    "name": "ipython",
    "version": 3
   },
   "file_extension": ".py",
   "mimetype": "text/x-python",
   "name": "python",
   "nbconvert_exporter": "python",
   "pygments_lexer": "ipython3",
   "version": "3.9.9"
  }
 },
 "nbformat": 4,
 "nbformat_minor": 5
}

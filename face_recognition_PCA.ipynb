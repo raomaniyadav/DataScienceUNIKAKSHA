{
 "cells": [
  {
   "cell_type": "code",
   "execution_count": 1,
   "id": "dae7b1a4",
   "metadata": {},
   "outputs": [],
   "source": [
    "import numpy as np\n",
    "import pandas as pd\n",
    "import matplotlib.pyplot as plt\n",
    "import seaborn as sns\n",
    "from sklearn.datasets import fetch_lfw_people\n",
    "from sklearn.model_selection import GridSearchCV\n",
    "from sklearn.model_selection import train_test_split\n",
    "from sklearn.svm import SVC\n",
    "from sklearn.metrics import accuracy_score,f1_score,precision_score,recall_score,classification_report\n"
   ]
  },
  {
   "cell_type": "code",
   "execution_count": 2,
   "id": "4abb1470",
   "metadata": {},
   "outputs": [],
   "source": [
    "data=fetch_lfw_people(min_faces_per_person=100,resize=0.5)\n"
   ]
  },
  {
   "cell_type": "code",
   "execution_count": 3,
   "id": "f8366d44",
   "metadata": {},
   "outputs": [
    {
     "data": {
      "text/plain": [
       "(1140, 62, 47)"
      ]
     },
     "execution_count": 3,
     "metadata": {},
     "output_type": "execute_result"
    }
   ],
   "source": [
    "data.images.shape"
   ]
  },
  {
   "cell_type": "code",
   "execution_count": 4,
   "id": "8a464583",
   "metadata": {},
   "outputs": [],
   "source": [
    "X=pd.DataFrame(data.data)\n",
    "y=data.target"
   ]
  },
  {
   "cell_type": "markdown",
   "id": "0883ee24",
   "metadata": {},
   "source": [
    "#### data Preprocessing"
   ]
  },
  {
   "cell_type": "code",
   "execution_count": 5,
   "id": "72117a5a",
   "metadata": {},
   "outputs": [
    {
     "data": {
      "text/plain": [
       "(1140, 2914)"
      ]
     },
     "execution_count": 5,
     "metadata": {},
     "output_type": "execute_result"
    }
   ],
   "source": [
    "X.shape"
   ]
  },
  {
   "cell_type": "code",
   "execution_count": 6,
   "id": "01cdd021",
   "metadata": {},
   "outputs": [
    {
     "data": {
      "text/plain": [
       "0"
      ]
     },
     "execution_count": 6,
     "metadata": {},
     "output_type": "execute_result"
    }
   ],
   "source": [
    "sum(X.isnull().sum())"
   ]
  },
  {
   "cell_type": "code",
   "execution_count": 7,
   "id": "2ec984e5",
   "metadata": {},
   "outputs": [
    {
     "data": {
      "text/plain": [
       "[]"
      ]
     },
     "execution_count": 7,
     "metadata": {},
     "output_type": "execute_result"
    }
   ],
   "source": [
    "X.columns[X.isnull().any()].tolist()"
   ]
  },
  {
   "cell_type": "code",
   "execution_count": 8,
   "id": "433f8f31",
   "metadata": {},
   "outputs": [
    {
     "data": {
      "text/plain": [
       "array(['Colin Powell', 'Donald Rumsfeld', 'George W Bush',\n",
       "       'Gerhard Schroeder', 'Tony Blair'], dtype='<U17')"
      ]
     },
     "execution_count": 8,
     "metadata": {},
     "output_type": "execute_result"
    }
   ],
   "source": [
    "data.target_names"
   ]
  },
  {
   "cell_type": "markdown",
   "id": "d758e612",
   "metadata": {},
   "source": [
    "#### train test split data"
   ]
  },
  {
   "cell_type": "code",
   "execution_count": 9,
   "id": "185b1014",
   "metadata": {},
   "outputs": [],
   "source": [
    "x_train,x_test,y_train,y_test=train_test_split(X,y,test_size=.25)"
   ]
  },
  {
   "cell_type": "markdown",
   "id": "50fa3cf8",
   "metadata": {},
   "source": [
    "#### model creation"
   ]
  },
  {
   "cell_type": "code",
   "execution_count": 10,
   "id": "9a70789e",
   "metadata": {},
   "outputs": [],
   "source": [
    "model=SVC()\n",
    "para={\"C\":[.001,.01,.1,1,10],\n",
    "     \"kernel\":['linear', 'poly', 'rbf', 'sigmoid'],\n",
    "     \"degree\":[1,2,3,4,5]}"
   ]
  },
  {
   "cell_type": "code",
   "execution_count": 11,
   "id": "735c47ef",
   "metadata": {},
   "outputs": [],
   "source": [
    "grid=GridSearchCV(estimator=model,param_grid=para,n_jobs=-1,cv=10)"
   ]
  },
  {
   "cell_type": "code",
   "execution_count": 12,
   "id": "31697167",
   "metadata": {},
   "outputs": [],
   "source": [
    "grid.fit(x_train,y_train)\n",
    "y_act=y_test\n",
    "y_pred=grid.predict(x_test)"
   ]
  },
  {
   "cell_type": "code",
   "execution_count": 13,
   "id": "fa20bd6a",
   "metadata": {},
   "outputs": [
    {
     "data": {
      "text/plain": [
       "{'C': 1, 'degree': 2, 'kernel': 'poly'}"
      ]
     },
     "execution_count": 13,
     "metadata": {},
     "output_type": "execute_result"
    }
   ],
   "source": [
    "grid.best_params_"
   ]
  },
  {
   "cell_type": "markdown",
   "id": "73b309d9",
   "metadata": {},
   "source": [
    "#### model evaluation"
   ]
  },
  {
   "cell_type": "code",
   "execution_count": 14,
   "id": "2ad92418",
   "metadata": {},
   "outputs": [
    {
     "name": "stdout",
     "output_type": "stream",
     "text": [
      "accuracy score:  0.8210526315789474\n",
      "F1_score:  [0.848      0.62295082 0.87596899 0.80645161 0.75      ]\n",
      "precision score:  [0.79104478 0.61290323 0.91129032 0.80645161 0.75      ]\n",
      "recall :  [0.9137931  0.63333333 0.84328358 0.80645161 0.75      ]\n",
      "              precision    recall  f1-score   support\n",
      "\n",
      "           0       0.79      0.91      0.85        58\n",
      "           1       0.61      0.63      0.62        30\n",
      "           2       0.91      0.84      0.88       134\n",
      "           3       0.81      0.81      0.81        31\n",
      "           4       0.75      0.75      0.75        32\n",
      "\n",
      "    accuracy                           0.82       285\n",
      "   macro avg       0.77      0.79      0.78       285\n",
      "weighted avg       0.83      0.82      0.82       285\n",
      "\n"
     ]
    }
   ],
   "source": [
    "print(\"accuracy score: \",accuracy_score(y_act,y_pred))\n",
    "print(\"F1_score: \",f1_score(y_act,y_pred,average=None))\n",
    "print(\"precision score: \",precision_score(y_act,y_pred,average=None))\n",
    "print(\"recall : \",recall_score(y_act,y_pred,average=None))\n",
    "print(classification_report(y_act,y_pred))"
   ]
  },
  {
   "cell_type": "code",
   "execution_count": null,
   "id": "6bbc1c79",
   "metadata": {},
   "outputs": [],
   "source": []
  }
 ],
 "metadata": {
  "kernelspec": {
   "display_name": "Python 3 (ipykernel)",
   "language": "python",
   "name": "python3"
  },
  "language_info": {
   "codemirror_mode": {
    "name": "ipython",
    "version": 3
   },
   "file_extension": ".py",
   "mimetype": "text/x-python",
   "name": "python",
   "nbconvert_exporter": "python",
   "pygments_lexer": "ipython3",
   "version": "3.9.9"
  }
 },
 "nbformat": 4,
 "nbformat_minor": 5
}
